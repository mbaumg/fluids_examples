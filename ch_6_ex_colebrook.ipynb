{
 "cells": [
  {
   "cell_type": "markdown",
   "metadata": {},
   "source": [
    "In this problem we are to find the pipe size required to force air, at 20 m/s, down a 100 m section of smooth-wall tube where the frictional head loss due to the pipe is $h_f$ = 56.9 m, which corresponds to a total delta pressure (for the length of the pipe) of 670 Pa. The air has the following properties: $\\rho$ = 1.2 $\\frac{kg}{m^3}$, $\\mu$ = 1.8x10$^{-5}$ $\\frac{Ns}{m^2}$.\n",
    "\n",
    "First we need to import all the necessary toolboxes..."
   ]
  },
  {
   "cell_type": "code",
   "execution_count": 1,
   "metadata": {},
   "outputs": [],
   "source": [
    "# import fsolve from scipy \n",
    "from scipy.optimize import fsolve \n",
    "# import all the standard math functions and plotting stuff we'd want from numpy and matplotlib\n",
    "from pylab import* \n",
    "# This makes the plots appear inside the notebook\n",
    "%matplotlib inline "
   ]
  },
  {
   "cell_type": "markdown",
   "metadata": {},
   "source": [
    "After importing all the necessary toolboxes, we can begin by defining our variables..."
   ]
  },
  {
   "cell_type": "code",
   "execution_count": 2,
   "metadata": {},
   "outputs": [],
   "source": [
    "## Set your constants\n",
    "rho = 1.2 #[kg/m3]\n",
    "mu = 1.8e-5 #[Ns/m2]\n",
    "ee = 0 #[m] smooth pipe\n",
    "g = 9.81 #[m/s2]\n",
    "hf = 56.9 #[m]\n",
    "L = 100 #[m]\n",
    "V = 20 #[m/s]"
   ]
  },
  {
   "cell_type": "markdown",
   "metadata": {},
   "source": [
    "Next we can define our equations and call our solver function. Note that for \"fsolve\" it's best to rearrange the equations as follows:\n",
    "\n",
    "Reynolds Number:\n",
    "\n",
    "$0 = -Re + \\frac{\\rho V d}{\\mu}$\n",
    "\n",
    "Colebrook: \n",
    "\n",
    "$0 = -f + \\frac{1}{\\left(-2 log_{10}\\left[\\frac{\\varepsilon/d}{3.7} + \\frac{2.51}{Re_d \\sqrt{f} }\\right]\\right)^2}$\n",
    "\n",
    "Friction Factor:\n",
    "\n",
    "$0 = -f + h_f \\frac{d}{L} \\frac{2g}{V^2}$"
   ]
  },
  {
   "cell_type": "code",
   "execution_count": 3,
   "metadata": {},
   "outputs": [
    {
     "name": "stdout",
     "output_type": "stream",
     "text": [
      "Reynolds Number = 607055\n",
      "friction factor = 0.0127\n",
      "diameter = 0.455 m\n"
     ]
    }
   ],
   "source": [
    "# Define the equations \n",
    "def eqns(vars):\n",
    "    fa, d, Re = vars\n",
    "    eqRe = -Re + rho*V*d/mu # Reynolds Number\n",
    "    eqCB = -fa + (1/(-2.0*log10(2.51/(Re*sqrt(fa)) + (ee/d)/3.7)))**2 # Friction Factor\n",
    "    eqFF = -fa + hf*(d/L)*2*g/V**2\n",
    "    return [eqRe, eqCB, eqFF]\n",
    "\n",
    "# Now call the solver function with some initial guesses\n",
    "fa, d, Re = fsolve(eqns, (0.1, 0.5, 1e5))\n",
    "\n",
    "print(\"Reynolds Number = %.0f\" % Re)\n",
    "print(\"friction factor = %.4f\" % fa)\n",
    "print(\"diameter = %.3f m\" % d)"
   ]
  }
 ],
 "metadata": {
  "kernelspec": {
   "display_name": "Python 3",
   "language": "python",
   "name": "python3"
  },
  "language_info": {
   "codemirror_mode": {
    "name": "ipython",
    "version": 3
   },
   "file_extension": ".py",
   "mimetype": "text/x-python",
   "name": "python",
   "nbconvert_exporter": "python",
   "pygments_lexer": "ipython3",
   "version": "3.7.9"
  }
 },
 "nbformat": 4,
 "nbformat_minor": 4
}
